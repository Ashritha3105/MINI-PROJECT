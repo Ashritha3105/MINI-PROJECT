{
 "cells": [
  {
   "cell_type": "code",
   "execution_count": null,
   "metadata": {},
   "outputs": [],
   "source": [
    "pip install yfinance"
   ]
  },
  {
   "cell_type": "code",
   "execution_count": null,
   "metadata": {},
   "outputs": [],
   "source": [
    "import yfinance as yf\n",
    "\n",
    "import pandas as pd\n",
    "import matplotlib.pyplot as plt\n",
    "import numpy as np\n",
    "import plotly.express as px\n",
    "import seaborn as sns"
   ]
  },
  {
   "cell_type": "code",
   "execution_count": null,
   "metadata": {},
   "outputs": [],
   "source": [
    "symbols = [\n",
    "    'AAPL',\n",
    "    'MSFT',\n",
    "    'META',\n",
    "    'AMZN',\n",
    "    'XOM',\n",
    "    'UNH',\n",
    "    'JNJ',\n",
    "    'V',\n",
    "    'HD',\n",
    "    'ABBV',\n",
    "    'KO',\n",
    "    'DIS',\n",
    "    'T',\n",
    "    'UPS',\n",
    "    'LMT',\n",
    "    'CAT',\n",
    "    'F',\n",
    "    'MAR',\n",
    "    'O',\n",
    "    'HSY'\n",
    "]"
   ]
  },
  {
   "cell_type": "code",
   "execution_count": null,
   "metadata": {},
   "outputs": [],
   "source": [
    "data = yf.download(symbols, start=\"2018-01-01\", end=\"2024-03-31\")\n",
    "data.head()"
   ]
  },
  {
   "cell_type": "code",
   "execution_count": null,
   "metadata": {},
   "outputs": [],
   "source": [
    "portfolio_returns = data['Adj Close'].pct_change().dropna()\n",
    "\n",
    "port_comps_rets_cumprod = portfolio_returns.add(1).cumprod().sub(1)*100\n",
    "\n",
    "fig = px.line(port_comps_rets_cumprod,\n",
    "              x=port_comps_rets_cumprod.index,\n",
    "              y=port_comps_rets_cumprod.columns,\n",
    "              title='Cumulative Returns of Portfolio Stocks (2018-2024)')\n",
    "\n",
    "fig.update_xaxes(title_text='Date')\n",
    "fig.update_yaxes(title_text='Cumulative Return  ')\n",
    "\n",
    "fig.show()"
   ]
  },
  {
   "cell_type": "code",
   "execution_count": null,
   "metadata": {},
   "outputs": [],
   "source": [
    "sp_index = yf.download('^GSPC', start='2018-01-01', end=\"2023-02-28\")\n",
    "sp_index.head()"
   ]
  },
  {
   "cell_type": "code",
   "execution_count": null,
   "metadata": {},
   "outputs": [],
   "source": [
    "port_corr = port_comps_rets_cumprod.corr()\n",
    "\n",
    "sns.heatmap(port_corr)"
   ]
  }
 ],
 "metadata": {
  "kernelspec": {
   "display_name": "Python 3",
   "language": "python",
   "name": "python3"
  },
  "language_info": {
   "codemirror_mode": {
    "name": "ipython",
    "version": 3
   },
   "file_extension": ".py",
   "mimetype": "text/x-python",
   "name": "python",
   "nbconvert_exporter": "python",
   "pygments_lexer": "ipython3",
   "version": "3.12.2"
  }
 },
 "nbformat": 4,
 "nbformat_minor": 2
}
