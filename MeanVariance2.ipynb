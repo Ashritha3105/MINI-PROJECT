{
 "cells": [
  {
   "cell_type": "code",
   "execution_count": null,
   "metadata": {},
   "outputs": [],
   "source": [
    "import numpy as np\n",
    "import pandas as pd\n",
    "import matplotlib.pyplot as plt\n",
    "from pandas_datareader import data as web\n"
   ]
  },
  {
   "cell_type": "code",
   "execution_count": null,
   "metadata": {},
   "outputs": [],
   "source": [
    "import yfinance as yf\n",
    "\n",
    "assets = ['AAPL', 'MSFT', 'GOOGL']\n",
    "start_date = '2020-01-01'\n",
    "end_date = '2024-01-01'\n",
    "\n",
    "# Fetch data from Yahoo Finance\n",
    "data = yf.download(assets, start=start_date, end=end_date)['Adj Close']\n",
    "\n"
   ]
  },
  {
   "cell_type": "code",
   "execution_count": null,
   "metadata": {},
   "outputs": [],
   "source": [
    "returns = data.pct_change()\n"
   ]
  },
  {
   "cell_type": "code",
   "execution_count": null,
   "metadata": {},
   "outputs": [],
   "source": [
    "mean_returns = returns.mean()\n",
    "cov_matrix = returns.cov()\n"
   ]
  },
  {
   "cell_type": "code",
   "execution_count": null,
   "metadata": {},
   "outputs": [],
   "source": [
    "def portfolio_variance(weights, mean_returns, cov_matrix):\n",
    "    portfolio_return = np.sum(mean_returns * weights)\n",
    "    portfolio_std_dev = np.sqrt(np.dot(weights.T, np.dot(cov_matrix, weights)))\n",
    "    return portfolio_std_dev\n"
   ]
  },
  {
   "cell_type": "code",
   "execution_count": null,
   "metadata": {},
   "outputs": [],
   "source": [
    "constraints = ({'type': 'eq', 'fun': lambda x: np.sum(x) - 1})\n"
   ]
  },
  {
   "cell_type": "code",
   "execution_count": null,
   "metadata": {},
   "outputs": [],
   "source": [
    "bounds = tuple((0, 1) for _ in range(len(assets)))\n"
   ]
  },
  {
   "cell_type": "code",
   "execution_count": null,
   "metadata": {},
   "outputs": [],
   "source": [
    "from scipy.optimize import minimize\n",
    "\n",
    "# Initial guess for weights\n",
    "init_guess = [1/len(assets) for _ in range(len(assets))]\n",
    "\n",
    "# Perform optimization\n",
    "result = minimize(portfolio_variance, init_guess, args=(mean_returns, cov_matrix), method='SLSQP', bounds=bounds, constraints=constraints)\n"
   ]
  },
  {
   "cell_type": "code",
   "execution_count": null,
   "metadata": {},
   "outputs": [],
   "source": [
    "optimal_weights = result.x\n"
   ]
  },
  {
   "cell_type": "code",
   "execution_count": null,
   "metadata": {},
   "outputs": [],
   "source": [
    "# Calculate efficient frontier\n",
    "returns_range = np.linspace(0.005, 0.03, 100)\n",
    "variances = []\n",
    "\n",
    "for ret in returns_range:\n",
    "    constraints = ({'type': 'eq', 'fun': lambda x: np.sum(x) - 1}, \n",
    "                   {'type': 'eq', 'fun': lambda x: np.sum(mean_returns * x) - ret})\n",
    "    result = minimize(portfolio_variance, init_guess, args=(mean_returns, cov_matrix), method='SLSQP', bounds=bounds, constraints=constraints)\n",
    "    variances.append(result.fun)\n",
    "\n",
    "# Plot efficient frontier\n",
    "plt.figure(figsize=(10, 6))\n",
    "plt.scatter(variances, returns_range, marker='o', color='blue')\n",
    "plt.title('Efficient Frontier')\n",
    "plt.xlabel('Portfolio Volatility')\n",
    "plt.ylabel('Expected Return')\n",
    "plt.show()\n",
    "\n",
    "# Print optimal weights\n",
    "print(\"Optimal Portfolio Weights:\")\n",
    "for asset, weight in zip(assets, optimal_weights):\n",
    "    print(f\"{asset}: {weight:.4f}\")\n"
   ]
  }
 ],
 "metadata": {
  "kernelspec": {
   "display_name": "Python 3",
   "language": "python",
   "name": "python3"
  },
  "language_info": {
   "codemirror_mode": {
    "name": "ipython",
    "version": 3
   },
   "file_extension": ".py",
   "mimetype": "text/x-python",
   "name": "python",
   "nbconvert_exporter": "python",
   "pygments_lexer": "ipython3",
   "version": "3.12.2"
  }
 },
 "nbformat": 4,
 "nbformat_minor": 2
}
