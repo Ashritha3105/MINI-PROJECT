{
  "cells": [
    {
      "cell_type": "code",
      "execution_count": null,
      "metadata": {
        "id": "XQ9qwrvocIZX"
      },
      "outputs": [],
      "source": [
        "url1 = 'https://www.google.com/finance/quote/INFY:NSE'\n",
        "url2 = 'https://www.google.com/finance/quote/500209:BOM'"
      ]
    },
    {
      "cell_type": "code",
      "execution_count": null,
      "metadata": {
        "colab": {
          "base_uri": "https://localhost:8080/"
        },
        "id": "3BFlAsgocQSw",
        "outputId": "00b3ec5a-b633-42b7-d16f-c10749e2586f"
      },
      "outputs": [],
      "source": [
        "import requests\n",
        "from bs4 import BeautifulSoup\n",
        "import time\n",
        "ticker = 'INFY'\n",
        "exchange = 'NSE'\n",
        "url = f'https://www.google.com/finance/quote/{ticker}:{exchange}'\n",
        "for i in range(5):\n",
        "  response = requests.get(url)\n",
        "  soup = BeautifulSoup(response.text,'html.parser')\n",
        "  class1 = \"YMlKec fxKbKc\"\n",
        "  price = float(soup.find(class_= class1).text.strip()[1:].replace(\",\",\"\"))\n",
        "  print(price)\n",
        "  time.sleep(10)\n",
        "\n"
      ]
    },
    {
      "cell_type": "code",
      "execution_count": null,
      "metadata": {
        "colab": {
          "base_uri": "https://localhost:8080/"
        },
        "id": "HXsFM--pcTQO",
        "outputId": "279be598-5e14-4d2a-b02a-4caca2f32e72"
      },
      "outputs": [],
      "source": [
        "import requests\n",
        "from bs4 import BeautifulSoup\n",
        "import time\n",
        "ticker = 'ZOMATO'\n",
        "exchange = 'NSE'\n",
        "url = f'https://www.google.com/finance/quote/{ticker}:{exchange}'\n",
        "for i in range(5):\n",
        "  response = requests.get(url)\n",
        "  soup = BeautifulSoup(response.text,'html.parser')\n",
        "  class1 = \"YMlKec fxKbKc\"\n",
        "  price = float(soup.find(class_= class1).text.strip()[1:].replace(\",\",\"\"))\n",
        "  print(price)\n",
        "  time.sleep(10)"
      ]
    },
    {
      "cell_type": "code",
      "execution_count": null,
      "metadata": {
        "colab": {
          "base_uri": "https://localhost:8080/"
        },
        "id": "d9fXJncUc0dQ",
        "outputId": "16a144cf-acfa-473b-863f-54cafd3da824"
      },
      "outputs": [],
      "source": [
        "import requests\n",
        "from bs4 import BeautifulSoup\n",
        "import time\n",
        "ticker = '500209'\n",
        "exchange = 'BOM'\n",
        "url = f'https://www.google.com/finance/quote/{ticker}:{exchange}'\n",
        "for i in range(5):\n",
        "  response = requests.get(url)\n",
        "  soup = BeautifulSoup(response.text,'html.parser')\n",
        "  class1 = \"YMlKec fxKbKc\"\n",
        "  price = float(soup.find(class_= class1).text.strip()[1:].replace(\",\",\"\"))\n",
        "  print(price)\n",
        "  time.sleep(3)"
      ]
    },
    {
      "cell_type": "code",
      "execution_count": null,
      "metadata": {
        "colab": {
          "base_uri": "https://localhost:8080/"
        },
        "id": "0dHb3Lf_edk_",
        "outputId": "ad1a7423-b427-466d-e571-4213273d6900"
      },
      "outputs": [],
      "source": [
        "import requests\n",
        "from bs4 import BeautifulSoup\n",
        "import time\n",
        "ticker = 'TITAN'\n",
        "exchange = 'NSE'\n",
        "url = f'https://www.google.com/finance/quote/{ticker}:{exchange}'\n",
        "for i in range(5):\n",
        "  response = requests.get(url)\n",
        "  soup = BeautifulSoup(response.text,'html.parser')\n",
        "  class1 = \"YMlKec fxKbKc\"\n",
        "  price = float(soup.find(class_= class1).text.strip()[1:].replace(\",\",\"\"))\n",
        "  print(price)\n",
        "  time.sleep(1)"
      ]
    },
    {
      "cell_type": "code",
      "execution_count": null,
      "metadata": {
        "colab": {
          "base_uri": "https://localhost:8080/"
        },
        "id": "nWPqyguvfjeX",
        "outputId": "05a8ec08-19d7-4ba3-ef6f-a90e3404966b"
      },
      "outputs": [],
      "source": [
        "import requests\n",
        "from bs4 import BeautifulSoup\n",
        "import time\n",
        "ticker = 'TATAMOTORS'\n",
        "exchange = 'NSE'\n",
        "url = f'https://www.google.com/finance/quote/{ticker}:{exchange}'\n",
        "for i in range(5):\n",
        "  response = requests.get(url)\n",
        "  soup = BeautifulSoup(response.text,'html.parser')\n",
        "  class1 = \"YMlKec fxKbKc\"\n",
        "  price = float(soup.find(class_= class1).text.strip()[1:].replace(\",\",\"\"))\n",
        "  print(price)\n",
        "  time.sleep(1)"
      ]
    },
    {
      "cell_type": "code",
      "execution_count": null,
      "metadata": {
        "colab": {
          "base_uri": "https://localhost:8080/"
        },
        "id": "PnYm6V45klFt",
        "outputId": "37e0e7b6-346f-417e-d1e0-11f6108a06d8"
      },
      "outputs": [],
      "source": [
        "import requests\n",
        "from bs4 import BeautifulSoup\n",
        "import time\n",
        "ticker = 'CANBK'\n",
        "exchange = 'NSE'\n",
        "url = f'https://www.google.com/finance/quote/{ticker}:{exchange}'\n",
        "for i in range(5):\n",
        "  response = requests.get(url)\n",
        "  soup = BeautifulSoup(response.text,'html.parser')\n",
        "  class1 = \"YMlKec fxKbKc\"\n",
        "  price = float(soup.find(class_= class1).text.strip()[1:].replace(\",\",\"\"))\n",
        "  print(price)\n",
        "  time.sleep(1)"
      ]
    },
    {
      "cell_type": "code",
      "execution_count": null,
      "metadata": {
        "colab": {
          "base_uri": "https://localhost:8080/"
        },
        "id": "Gim-piDzlNm4",
        "outputId": "5d6f2c61-42fa-4069-a83b-6e2d67f56b9c"
      },
      "outputs": [],
      "source": [
        "import requests\n",
        "from bs4 import BeautifulSoup\n",
        "import time\n",
        "ticker = 'BRITANNIA'\n",
        "exchange = 'NSE'\n",
        "url = f'https://www.google.com/finance/quote/{ticker}:{exchange}'\n",
        "for i in range(5):\n",
        "  response = requests.get(url)\n",
        "  soup = BeautifulSoup(response.text,'html.parser')\n",
        "  class1 = \"YMlKec fxKbKc\"\n",
        "  price = float(soup.find(class_= class1).text.strip()[1:].replace(\",\",\"\"))\n",
        "  print(price)\n",
        "  time.sleep(1)"
      ]
    },
    {
      "cell_type": "code",
      "execution_count": null,
      "metadata": {
        "colab": {
          "base_uri": "https://localhost:8080/"
        },
        "id": "vod9uGaFlhU3",
        "outputId": "62bd3300-1bb1-4257-e89a-9fb9bb7d5cce"
      },
      "outputs": [],
      "source": [
        "import requests\n",
        "from bs4 import BeautifulSoup\n",
        "import time\n",
        "ticker = 'NESTLEIND'\n",
        "exchange = 'NSE'\n",
        "url = f'https://www.google.com/finance/quote/{ticker}:{exchange}'\n",
        "for i in range(5):\n",
        "  response = requests.get(url)\n",
        "  soup = BeautifulSoup(response.text,'html.parser')\n",
        "  class1 = \"YMlKec fxKbKc\"\n",
        "  price = float(soup.find(class_= class1).text.strip()[1:].replace(\",\",\"\"))\n",
        "  print(price)\n",
        "  time.sleep(1)"
      ]
    },
    {
      "cell_type": "code",
      "execution_count": null,
      "metadata": {
        "colab": {
          "base_uri": "https://localhost:8080/"
        },
        "id": "fOTquEqLmXw8",
        "outputId": "33e821be-20a5-4491-c0b7-fff9eb8d46a5"
      },
      "outputs": [],
      "source": [
        "import requests\n",
        "from bs4 import BeautifulSoup\n",
        "import time\n",
        "ticker = 'IRCTC'\n",
        "exchange = 'NSE'\n",
        "url = f'https://www.google.com/finance/quote/{ticker}:{exchange}'\n",
        "for i in range(5):\n",
        "  response = requests.get(url)\n",
        "  soup = BeautifulSoup(response.text,'html.parser')\n",
        "  class1 = \"YMlKec fxKbKc\"\n",
        "  price = float(soup.find(class_= class1).text.strip()[1:].replace(\",\",\"\"))\n",
        "  print(price)\n",
        "  time.sleep(1)"
      ]
    }
  ],
  "metadata": {
    "colab": {
      "provenance": []
    },
    "kernelspec": {
      "display_name": "Python 3",
      "name": "python3"
    },
    "language_info": {
      "codemirror_mode": {
        "name": "ipython",
        "version": 3
      },
      "file_extension": ".py",
      "mimetype": "text/x-python",
      "name": "python",
      "nbconvert_exporter": "python",
      "pygments_lexer": "ipython3",
      "version": "3.12.2"
    }
  },
  "nbformat": 4,
  "nbformat_minor": 0
}
